{
 "cells": [
  {
   "cell_type": "code",
   "execution_count": 1,
   "metadata": {},
   "outputs": [],
   "source": [
    "from firecloud import fiss\n",
    "import pandas as pd\n",
    "pd.set_option('display.max_row', 10000)\n",
    "import io\n",
    "import numpy as np\n",
    "from pprint import pprint"
   ]
  },
  {
   "cell_type": "code",
   "execution_count": 2,
   "metadata": {},
   "outputs": [
    {
     "name": "stdout",
     "output_type": "stream",
     "text": [
      "hello\n"
     ]
    }
   ],
   "source": [
    "print \"hello\""
   ]
  },
  {
   "cell_type": "code",
   "execution_count": 4,
   "metadata": {},
   "outputs": [
    {
     "name": "stdout",
     "output_type": "stream",
     "text": [
      "[u'acl']\n"
     ]
    }
   ],
   "source": [
    "control = fiss.fapi.get_workspace_acl(\"topmed-shared\", \"topmed-shared\").json()#['acl']\n",
    "print control.keys()"
   ]
  },
  {
   "cell_type": "code",
   "execution_count": 6,
   "metadata": {
    "scrolled": true
   },
   "outputs": [
    {
     "name": "stdout",
     "output_type": "stream",
     "text": [
      "{u'GROUP_topmed-shared@firecloud.org': {u'canShare': False, u'accessLevel': u'WRITER', u'pending': False, u'canCompute': True}, u'amanning@broadinstitute.org': {u'canShare': True, u'accessLevel': u'PROJECT_OWNER', u'pending': False, u'canCompute': True}}\n"
     ]
    }
   ],
   "source": [
    "print control['acl']"
   ]
  },
  {
   "cell_type": "code",
   "execution_count": 10,
   "metadata": {},
   "outputs": [
    {
     "name": "stdout",
     "output_type": "stream",
     "text": [
      "Help on module firecloud.fiss in firecloud:\n",
      "\n",
      "NAME\n",
      "    firecloud.fiss - FISS -- (Fi)reCloud (S)ervice (Selector)\n",
      "\n",
      "FILE\n",
      "    /usr/local/lib/python2.7/dist-packages/firecloud/fiss.py\n",
      "\n",
      "DESCRIPTION\n",
      "    This module provides a command line interface to FireCloud\n",
      "    For more details see https://software.broadinstitute.org/firecloud/\n",
      "\n",
      "FUNCTIONS\n",
      "    attr_copy(args)\n",
      "        Copy workspace attributes between workspaces.\n",
      "    \n",
      "    attr_delete(args)\n",
      "        Delete key=value attributes: if entity name & type are specified then\n",
      "        attributes will be deleted from that entity, otherwise the attribute will\n",
      "        be removed from the workspace\n",
      "    \n",
      "    attr_fill_null(args)\n",
      "        Assign the null sentinel value for all entities which do not have a value\n",
      "        for the given attributes.\n",
      "        \n",
      "        see gs://broad-institute-gdac/GDAC_FC_NULL for more details\n",
      "    \n",
      "    attr_get(args)\n",
      "        Return a dict of attribute name/value pairs: if entity name & type\n",
      "        are specified then attributes will be retrieved from that entity,\n",
      "        otherwise workspace-level attributes will be returned.  By default all\n",
      "        attributes attached to the given object will be returned, but a subset\n",
      "        can be selected by specifying a list of attribute names; names which\n",
      "        refer to a non-existent attribute will be silently ignored. By default\n",
      "        a special __header__ entry is optionally added to the result.\n",
      "    \n",
      "    attr_list(args)\n",
      "        Retrieve names of all attributes attached to a given object, either\n",
      "        an entity (if entity type+name is provided) or workspace (if not)\n",
      "    \n",
      "    attr_set(args)\n",
      "        Set key=value attributes: if entity name & type are specified then\n",
      "        attributes will be set upon that entity, otherwise the attribute will\n",
      "        be set at the workspace level\n",
      "    \n",
      "    config_acl(args)\n",
      "        Retrieve access control list for a method configuration\n",
      "    \n",
      "    config_cmd(args)\n",
      "    \n",
      "    config_copy(args)\n",
      "        Copy a method config to new name/space/namespace/project (or all 4)\n",
      "    \n",
      "    config_delete(args)\n",
      "        Remove a method config from a workspace\n",
      "    \n",
      "    config_edit(args)\n",
      "    \n",
      "    config_get(args)\n",
      "        Retrieve a method config from a workspace, send stdout\n",
      "    \n",
      "    config_list(args)\n",
      "        List configurations in the methods repository or a workspace.\n",
      "    \n",
      "    config_new(args)\n",
      "        Attempt to install a new method config into a workspace, by: generating\n",
      "        a template from a versioned method in the methods repo, then launching\n",
      "        a local editor (respecting the $EDITOR environment variable) to fill in\n",
      "        the incomplete input/output fields.  Returns True if the config was\n",
      "        successfully installed, otherwise False\n",
      "    \n",
      "    config_put(args)\n",
      "        Install a valid method configuration into a workspace, in one of several\n",
      "        ways: from a JSON file containing a config definition (both file names\n",
      "        and objects are supported); as a string representing the content of such\n",
      "        a JSON file; or as a dict generated from such JSON content, e.g via\n",
      "        json.loads(). Note that the CLI supports only string & filename input.\n",
      "    \n",
      "    config_start(args)\n",
      "        Invoke a task (method configuration), on given entity in given space\n",
      "    \n",
      "    config_template(args)\n",
      "    \n",
      "    config_validate(args)\n",
      "        Validate a workspace configuration: if an entity was specified (i.e.\n",
      "        upon which the configuration should operate), then also validate that\n",
      "        the entity has the necessary attributes\n",
      "    \n",
      "    entity_copy(args)\n",
      "        Copy entities from one workspace to another.\n",
      "    \n",
      "    entity_delete(args)\n",
      "        Delete entity in a workspace.\n",
      "    \n",
      "    entity_import(args)\n",
      "        Upload an entity loadfile.\n",
      "    \n",
      "    entity_list(args)\n",
      "        List entities in a workspace.\n",
      "    \n",
      "    entity_types(args)\n",
      "        List entity types in a workspace\n",
      "    \n",
      "    eprint(*args, **kwargs)\n",
      "        Print a message to stderr\n",
      "    \n",
      "    fiss_cmd(function)\n",
      "        Decorator to indicate a function is a FISS command\n",
      "    \n",
      "    health(args)\n",
      "        Health FireCloud Server\n",
      "    \n",
      "    main(argv=None)\n",
      "    \n",
      "    main_as_cli(argv=None)\n",
      "        Use this entry point to call HL fiss funcs as though from the UNIX CLI.\n",
      "        (see firecloud/tests/highlevel_tests.py:call_cli for usage examples)\n",
      "    \n",
      "    meth_acl(args)\n",
      "        Retrieve access control list for given version of a repository method\n",
      "    \n",
      "    meth_delete(args)\n",
      "        Remove (redact) a method from the method repository\n",
      "    \n",
      "    meth_exists(args)\n",
      "        Determine whether a given workflow is present in methods repo\n",
      "    \n",
      "    meth_list(args)\n",
      "        List workflows in the methods repository\n",
      "    \n",
      "    meth_new(args)\n",
      "        Submit a new workflow (or update) to the methods repository.\n",
      "    \n",
      "    meth_set_acl(args)\n",
      "        Assign an ACL role to a list of users for a worklow.\n",
      "    \n",
      "    monitor(args)\n",
      "        Retrieve status of jobs submitted from a given workspace, as a list\n",
      "        of TSV lines sorted by descending order of job submission date\n",
      "    \n",
      "    mop(args)\n",
      "        Clean up unreferenced data in a workspace\n",
      "    \n",
      "    noop(args)\n",
      "    \n",
      "    participant_delete(args)\n",
      "    \n",
      "    participant_list(args)\n",
      "        List participants in a workspace.\n",
      "    \n",
      "    printToCLI(value)\n",
      "    \n",
      "    proj_list(args)\n",
      "        Retrieve the list of billing projects accessible to the caller/user, and\n",
      "        show the level of access granted for each (e.g. Owner, User, ...)\n",
      "    \n",
      "    runnable(args)\n",
      "        Show me what can be run in a given workspace\n",
      "    \n",
      "    sample_delete(args)\n",
      "    \n",
      "    sample_list(args)\n",
      "        List samples in a workspace.\n",
      "    \n",
      "    space_acl(args)\n",
      "        Retrieve access control list for a workspace\n",
      "    \n",
      "    space_clone(args)\n",
      "        Replicate a workspace\n",
      "    \n",
      "    space_delete(args)\n",
      "        Delete a workspace.\n",
      "    \n",
      "    space_exists(args)\n",
      "        Determine if the named space exists in the given project (namespace)\n",
      "    \n",
      "    space_info(args)\n",
      "        Get metadata for a workspace.\n",
      "    \n",
      "    space_list(args)\n",
      "        List accessible workspaces, in TSV form: <namespace><TAB>workspace\n",
      "    \n",
      "    space_lock(args)\n",
      "        Lock a workspace\n",
      "    \n",
      "    space_new(args)\n",
      "        Create a new workspace.\n",
      "    \n",
      "    space_search(args)\n",
      "        Search for workspaces matching certain criteria\n",
      "    \n",
      "    space_set_acl(args)\n",
      "        Assign an ACL role to list of users for a workspace\n",
      "    \n",
      "    space_unlock(args)\n",
      "        Unlock a workspace\n",
      "    \n",
      "    sset_delete(args)\n",
      "    \n",
      "    sset_list(args)\n",
      "        List sample sets in a workspace\n",
      "    \n",
      "    sset_loop(args)\n",
      "        Loop over all sample sets in a workspace, performing a func\n",
      "    \n",
      "    supervise(args)\n",
      "        Run legacy, Firehose-style workflow of workflows\n",
      "    \n",
      "    supervise_recover(args)\n",
      "\n",
      "DATA\n",
      "    __EDITME__ = 'EDITME, or abort edit/install by leaving entire config u...\n",
      "    __version__ = '0.16.4'\n",
      "    fcconfig = {'root_url': 'https://api.firecloud.org/api/', '...y': <fun...\n",
      "    i = 0\n",
      "    print_function = _Feature((2, 6, 0, 'alpha', 2), (3, 0, 0, 'alpha', 0)...\n",
      "    string_types = (<type 'basestring'>,)\n",
      "\n",
      "VERSION\n",
      "    0.16.4\n",
      "\n",
      "\n"
     ]
    }
   ],
   "source": [
    "#dir(fiss)\n",
    "help(fiss)"
   ]
  },
  {
   "cell_type": "code",
   "execution_count": 14,
   "metadata": {},
   "outputs": [
    {
     "name": "stdout",
     "output_type": "stream",
     "text": [
      "[u'stackTrace', u'timestamp', u'source', u'message', u'causes', u'statusCode']\n"
     ]
    }
   ],
   "source": [
    "control2 = fiss.fapi.get_workspace_acl(\"topmed-shared\", \"topmed-shared-t2d\").json()#['acl']\n",
    "print control2.keys()"
   ]
  },
  {
   "cell_type": "code",
   "execution_count": 15,
   "metadata": {},
   "outputs": [
    {
     "name": "stdout",
     "output_type": "stream",
     "text": [
      "topmed-shared/topmed-shared-t2d does not exist\n"
     ]
    }
   ],
   "source": [
    "print control2['message']"
   ]
  },
  {
   "cell_type": "code",
   "execution_count": null,
   "metadata": {},
   "outputs": [],
   "source": []
  }
 ],
 "metadata": {
  "kernelspec": {
   "display_name": "Python 2",
   "language": "python",
   "name": "python2"
  },
  "language_info": {
   "codemirror_mode": {
    "name": "ipython",
    "version": 2
   },
   "file_extension": ".py",
   "mimetype": "text/x-python",
   "name": "python",
   "nbconvert_exporter": "python",
   "pygments_lexer": "ipython2",
   "version": "2.7.9"
  }
 },
 "nbformat": 4,
 "nbformat_minor": 2
}
