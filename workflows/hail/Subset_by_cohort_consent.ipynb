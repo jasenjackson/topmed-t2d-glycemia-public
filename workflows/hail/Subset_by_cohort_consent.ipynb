{
 "cells": [
  {
   "cell_type": "code",
   "execution_count": 1,
   "metadata": {},
   "outputs": [],
   "source": [
    "from firecloud import fiss\n",
    "import pandas as pd\n",
    "pd.set_option('display.max_row', 10000)\n",
    "import io\n",
    "import numpy as np\n",
    "from pprint import pprint"
   ]
  },
  {
   "cell_type": "code",
   "execution_count": 2,
   "metadata": {},
   "outputs": [
    {
     "name": "stdout",
     "output_type": "stream",
     "text": [
      "[u'acl']\n"
     ]
    }
   ],
   "source": [
    "control = fiss.fapi.get_workspace_acl(\"topmed-shared\", \"topmed-shared\").json()#['acl']\n",
    "print control.keys()"
   ]
  },
  {
   "cell_type": "code",
   "execution_count": 3,
   "metadata": {},
   "outputs": [
    {
     "name": "stderr",
     "output_type": "stream",
     "text": [
      "Running on Apache Spark version 2.0.2\n",
      "SparkUI available at http://10.128.0.3:4040\n",
      "Welcome to\n",
      "     __  __     <>__\n",
      "    / /_/ /__  __/ /\n",
      "   / __  / _ `/ / /\n",
      "  /_/ /_/\\_,_/_/_/   version 0.1-6f85985\n"
     ]
    }
   ],
   "source": [
    "## start hail context\n",
    "from hail import *\n",
    "hc = HailContext(sc)"
   ]
  },
  {
   "cell_type": "code",
   "execution_count": 4,
   "metadata": {},
   "outputs": [
    {
     "name": "stdout",
     "output_type": "stream",
     "text": [
      "Sample set name: freeze5b_minDP10\n",
      "Sample set fields: wgsa_subset, gds, vcf, bcf, tbi, cov_grm, samples, wgsa_raw, cor_grm\n",
      "# of vcf files: 23\n"
     ]
    }
   ],
   "source": [
    "samples_sets = fiss.fapi.get_entities('topmed-shared','topmed-shared', 'sample_set').json()\n",
    "print 'Sample set name:', samples_sets[0]['name']\n",
    "print 'Sample set fields:', ', '.join(samples_sets[0]['attributes'].keys())\n",
    "vcf_files = samples_sets[0]['attributes']['vcf']['items']\n",
    "print '# of vcf files:', len(vcf_files)"
   ]
  },
  {
   "cell_type": "markdown",
   "metadata": {},
   "source": [
    "For analysis, we will want to combine genotype data in several different ways -- and these will be specific to each working group. One of the first operations then, to make the data more managable, will be to create variant data sets (vds) per cohort/consent combination."
   ]
  },
  {
   "cell_type": "code",
   "execution_count": 6,
   "metadata": {},
   "outputs": [
    {
     "name": "stdout",
     "output_type": "stream",
     "text": [
      "<class 'pandas.core.frame.DataFrame'>\n",
      "Int64Index: 56436 entries, 0 to 56435\n",
      "Data columns (total 6 columns):\n",
      "ent_sample_id     56436 non-null object\n",
      "sample_id         56436 non-null object\n",
      "CENTER            56436 non-null object\n",
      "study             56436 non-null object\n",
      "topmed_project    56436 non-null object\n",
      "consent           56436 non-null object\n",
      "dtypes: object(6)"
     ]
    }
   ],
   "source": [
    "data_model = fiss.fapi.get_entities_tsv(\"topmed-shared\",\"topmed-shared\", \"sample\")\n",
    "data_model_text = pd.read_csv(io.StringIO(data_model.text), sep='\\t')[['entity:sample_id','participant','CENTER','study','topmed_project','consent']]\n",
    "data_model_text.rename(columns = {'entity:sample_id':'ent_sample_id', 'participant':'sample_id'}, inplace = True)\n",
    "data_model_text[['study', 'topmed_project','consent']] = data_model_text[['study', 'topmed_project','consent']].astype(str)\n",
    "data_model_text.info()"
   ]
  },
  {
   "cell_type": "markdown",
   "metadata": {},
   "source": [
    "Taking a look at the top of this data frame:"
   ]
  },
  {
   "cell_type": "code",
   "execution_count": 7,
   "metadata": {},
   "outputs": [
    {
     "data": {
      "text/html": [
       "<div style=\"max-height:1000px;max-width:1500px;overflow:auto;\">\n",
       "<table border=\"1\" class=\"dataframe\">\n",
       "  <thead>\n",
       "    <tr style=\"text-align: right;\">\n",
       "      <th></th>\n",
       "      <th>ent_sample_id</th>\n",
       "      <th>sample_id</th>\n",
       "      <th>CENTER</th>\n",
       "      <th>study</th>\n",
       "      <th>topmed_project</th>\n",
       "      <th>consent</th>\n",
       "    </tr>\n",
       "  </thead>\n",
       "  <tbody>\n",
       "    <tr>\n",
       "      <th>0</th>\n",
       "      <td> freeze5a_NWD100014</td>\n",
       "      <td> NWD100014</td>\n",
       "      <td>       uw</td>\n",
       "      <td>      JHS</td>\n",
       "      <td>      JHS</td>\n",
       "      <td>        HMB-IRB-NPU</td>\n",
       "    </tr>\n",
       "    <tr>\n",
       "      <th>1</th>\n",
       "      <td> freeze5a_NWD100018</td>\n",
       "      <td> NWD100018</td>\n",
       "      <td>    broad</td>\n",
       "      <td> COPDGene</td>\n",
       "      <td>     COPD</td>\n",
       "      <td>                HMB</td>\n",
       "    </tr>\n",
       "    <tr>\n",
       "      <th>2</th>\n",
       "      <td> freeze5a_NWD100027</td>\n",
       "      <td> NWD100027</td>\n",
       "      <td> macrogen</td>\n",
       "      <td> GeneSTAR</td>\n",
       "      <td> GeneSTAR</td>\n",
       "      <td> DS-CVD-IRB-NPU-MDS</td>\n",
       "    </tr>\n",
       "    <tr>\n",
       "      <th>3</th>\n",
       "      <td> freeze5a_NWD100047</td>\n",
       "      <td> NWD100047</td>\n",
       "      <td>       uw</td>\n",
       "      <td>   EOCOPD</td>\n",
       "      <td>     COPD</td>\n",
       "      <td>           DS-CS-RD</td>\n",
       "    </tr>\n",
       "    <tr>\n",
       "      <th>4</th>\n",
       "      <td> freeze5a_NWD100048</td>\n",
       "      <td> NWD100048</td>\n",
       "      <td>    broad</td>\n",
       "      <td>    VU_AF</td>\n",
       "      <td>    AFGen</td>\n",
       "      <td>            GRU-IRB</td>\n",
       "    </tr>\n",
       "  </tbody>\n",
       "</table>\n",
       "</div>"
      ],
      "text/plain": [
       "        ent_sample_id  sample_id    CENTER     study topmed_project  \\\n",
       "0  freeze5a_NWD100014  NWD100014        uw       JHS            JHS   \n",
       "1  freeze5a_NWD100018  NWD100018     broad  COPDGene           COPD   \n",
       "2  freeze5a_NWD100027  NWD100027  macrogen  GeneSTAR       GeneSTAR   \n",
       "3  freeze5a_NWD100047  NWD100047        uw    EOCOPD           COPD   \n",
       "4  freeze5a_NWD100048  NWD100048     broad     VU_AF          AFGen   \n",
       "\n",
       "              consent  \n",
       "0         HMB-IRB-NPU  \n",
       "1                 HMB  \n",
       "2  DS-CVD-IRB-NPU-MDS  \n",
       "3            DS-CS-RD  \n",
       "4             GRU-IRB  "
      ]
     },
     "execution_count": 7,
     "metadata": {},
     "output_type": "execute_result"
    }
   ],
   "source": [
    "data_model_text.head()"
   ]
  },
  {
   "cell_type": "markdown",
   "metadata": {},
   "source": [
    "We are going to loop through each chromosome, and create vds subsets per cohort/consent group."
   ]
  },
  {
   "cell_type": "code",
   "execution_count": 31,
   "metadata": {},
   "outputs": [
    {
     "name": "stdout",
     "output_type": "stream",
     "text": [
      "gs://fc-adaae650-a458-4c56-8a55-d96fa463a5c6/25c6cc4a-9d07-49bc-a548-9166f7a5f5ad/w/e111b73f-4bff-4079-8c73-f9951d8dcb7a/call-runVcf/shard-13/freeze.5b.chr21.pass_and_fail.gtonly.minDP10.vcf.bgz\n",
      "freeze.5b.chr21.pass_and_fail.gtonly.minDP10\n"
     ]
    }
   ],
   "source": [
    "i = 13\n",
    "\n",
    "vcf_file = vcf_files[i]\n",
    "print vcf_file\n",
    "\n",
    "label = vcf_file.split('/')[-1]\n",
    "label = \".\".join(label.split('.')[:-2])\n",
    "print label"
   ]
  },
  {
   "cell_type": "code",
   "execution_count": 32,
   "metadata": {},
   "outputs": [
    {
     "name": "stderr",
     "output_type": "stream",
     "text": [
      "2017-11-25 21:08:25 Hail: INFO: No multiallelics detected.\n",
      "2017-11-25 21:08:26 Hail: INFO: Coerced sorted dataset\n",
      "2017-11-25 21:08:26 Hail: WARN: called redundant split on an already split VDS\n"
     ]
    }
   ],
   "source": [
    "vds = hc.import_vcf(vcf_files[i],min_partitions = 500).split_multi()"
   ]
  },
  {
   "cell_type": "markdown",
   "metadata": {},
   "source": [
    "Annotate the samples"
   ]
  },
  {
   "cell_type": "code",
   "execution_count": 33,
   "metadata": {},
   "outputs": [],
   "source": [
    "from pyspark.sql import SQLContext\n",
    "sqlctx = SQLContext(hc.sc)\n",
    "spark_df = sqlctx.createDataFrame(data_model_text)\n",
    "kt = KeyTable.from_dataframe(spark_df,key='sample_id') \n",
    "vds = vds.annotate_samples_table(kt, root='sa')"
   ]
  },
  {
   "cell_type": "markdown",
   "metadata": {},
   "source": [
    "Extract samples for each sample/consent combination, excluding the consent=\"NA\""
   ]
  },
  {
   "cell_type": "code",
   "execution_count": 57,
   "metadata": {},
   "outputs": [],
   "source": [
    "data_model_text['cohort_consent'] = data_model_text['topmed_project'].map(str) + \".\" + data_model_text['consent']"
   ]
  },
  {
   "cell_type": "code",
   "execution_count": 58,
   "metadata": {},
   "outputs": [
    {
     "name": "stdout",
     "output_type": "stream",
     "text": [
      "['JHS.HMB-IRB-NPU' 'COPD.HMB' 'GeneSTAR.DS-CVD-IRB-NPU-MDS' 'COPD.DS-CS-RD'\n",
      " 'AFGen.GRU-IRB' 'WHI.HMB-IRB' 'CFS.DS-HLBS-IRB-NPU' 'FHS.HMB-IRB-MDS'\n",
      " 'HyperGEN_GENOA.GRU-IRB' 'VTE.HMB-IRB' 'THRV.DS-CVD-IRB-COL-NPU-RD'\n",
      " 'HyperGEN_GENOA.DS-ASC-RF-NPU' 'GenSalt.GRU-IRB' 'SAFS.nan' 'MESA.HMB'\n",
      " 'BAGS.GRU-IRB' 'GOLDN.DS-CVD-IRB' 'SAS.GRU-IRB-PUB-COL-NPU-GSO'\n",
      " 'CRA.DS-ASTHMA-IRB-MDS-RD' 'WHI.HMB-IRB-NPU' 'JHS.HMB-IRB'\n",
      " 'PGX_Asthma.DS-LD-RD' 'THRV.nan' 'VTE.GRU' 'FHS.HMB-IRB-NPU-MDS'\n",
      " 'PGX_Asthma.DS-LD' 'JHS.DS-FDO-IRB-NPU' 'AA_CAC.HMB-IRB-COL-NPU'\n",
      " 'Sarcoidosis.DS-SAR-IRB' 'JHS.DS-FDO-IRB' 'MESA.nan' 'VTE.nan'\n",
      " 'AFGen.DS-AF-IRB-RD' 'Amish.HMB-IRB-MDS' 'AFGen.HMB-IRB-NPU-MDS'\n",
      " 'AFGen.HMB-IRB' 'AFGen.HMB' 'AA_CAC.HMB' 'AFGen.nan'\n",
      " 'HyperGEN_GENOA.DS-CVD-IRB-RD' 'AA_CAC.DS-ASC-RF-NPU'\n",
      " 'AA_CAC.DS-CVD-IRB-NPU-MDS' 'AFGen.HMB-IRB-MDS' 'VTE.HMB-NPU-MDS'\n",
      " 'nan.NRUP' 'BAGS.nan' 'Amish.nan' 'HyperGEN_GENOA.nan' 'AA_CAC.nan'\n",
      " 'JHS.nan' 'CFS.nan' 'FHS.nan' 'AA_CAC.DS-DHD-IRB-COL-NPU' 'PGX_Asthma.nan'\n",
      " 'CRA.nan' 'AFGen.DS-CVD-IRB-MDS']\n"
     ]
    }
   ],
   "source": [
    "cohort_consents = data_model_text['cohort_consent'].unique()\n",
    "print cohort_consents"
   ]
  },
  {
   "cell_type": "code",
   "execution_count": 63,
   "metadata": {},
   "outputs": [
    {
     "data": {
      "text/plain": [
       "0                 JHS.HMB-IRB-NPU\n",
       "1                        COPD.HMB\n",
       "2     GeneSTAR.DS-CVD-IRB-NPU-MDS\n",
       "3                   COPD.DS-CS-RD\n",
       "4                   AFGen.GRU-IRB\n",
       "5                   AFGen.GRU-IRB\n",
       "6                        COPD.HMB\n",
       "7                     WHI.HMB-IRB\n",
       "8             CFS.DS-HLBS-IRB-NPU\n",
       "9                        COPD.HMB\n",
       "10                FHS.HMB-IRB-MDS\n",
       "11         HyperGEN_GENOA.GRU-IRB\n",
       "12    GeneSTAR.DS-CVD-IRB-NPU-MDS\n",
       "13                  AFGen.GRU-IRB\n",
       "14                    VTE.HMB-IRB\n",
       "...\n",
       "56421               WHI.HMB-IRB-NPU\n",
       "56422                      COPD.HMB\n",
       "56423                      COPD.HMB\n",
       "56424                      COPD.HMB\n",
       "56425                   WHI.HMB-IRB\n",
       "56426                 AFGen.GRU-IRB\n",
       "56427                      SAFS.nan\n",
       "56428    THRV.DS-CVD-IRB-COL-NPU-RD\n",
       "56429               WHI.HMB-IRB-NPU\n",
       "56430                      COPD.HMB\n",
       "56431      CRA.DS-ASTHMA-IRB-MDS-RD\n",
       "56432                 AFGen.GRU-IRB\n",
       "56433                      COPD.HMB\n",
       "56434                       VTE.GRU\n",
       "56435                      COPD.HMB\n",
       "Name: cohort_consent, Length: 56436, dtype: object"
      ]
     },
     "execution_count": 63,
     "metadata": {},
     "output_type": "execute_result"
    }
   ],
   "source": [
    "data_model_text['cohort_consent']"
   ]
  },
  {
   "cell_type": "code",
   "execution_count": 67,
   "metadata": {},
   "outputs": [],
   "source": [
    "consent_grouped = data_model_text.groupby('cohort_consent')"
   ]
  },
  {
   "cell_type": "code",
   "execution_count": 69,
   "metadata": {},
   "outputs": [],
   "source": [
    "one_group = consent_grouped.get_group('JHS.HMB-IRB-NPU')"
   ]
  },
  {
   "cell_type": "code",
   "execution_count": 72,
   "metadata": {},
   "outputs": [
    {
     "data": {
      "text/plain": [
       "count           697\n",
       "unique          697\n",
       "top       NWD589399\n",
       "freq              1\n",
       "dtype: object"
      ]
     },
     "execution_count": 72,
     "metadata": {},
     "output_type": "execute_result"
    }
   ],
   "source": [
    "one_group[\"sample_id\"].describe()"
   ]
  },
  {
   "cell_type": "code",
   "execution_count": 77,
   "metadata": {},
   "outputs": [
    {
     "data": {
      "text/plain": [
       "array(['NWD100014', 'NWD100597', 'NWD100900', 'NWD102903', 'NWD103804',\n",
       "       'NWD107594', 'NWD108366', 'NWD109345', 'NWD112373', 'NWD113503',\n",
       "       'NWD114901', 'NWD115576', 'NWD117670', 'NWD119675', 'NWD120808',\n",
       "       'NWD121168', 'NWD122406', 'NWD123492', 'NWD125918', 'NWD126673',\n",
       "       'NWD127039', 'NWD127105', 'NWD128382', 'NWD128980', 'NWD130049',\n",
       "       'NWD131190', 'NWD131470', 'NWD132536', 'NWD133474', 'NWD136646',\n",
       "       'NWD140186', 'NWD140972', 'NWD141914', 'NWD143467', 'NWD144171',\n",
       "       'NWD147037', 'NWD148009', 'NWD149390', 'NWD153049', 'NWD155095',\n",
       "       'NWD155490', 'NWD155709', 'NWD155738', 'NWD158614', 'NWD158978',\n",
       "       'NWD162478', 'NWD163306', 'NWD164010', 'NWD164654', 'NWD165668',\n",
       "       'NWD166048', 'NWD169202', 'NWD170185', 'NWD170530', 'NWD171177',\n",
       "       'NWD173120', 'NWD173675', 'NWD174851', 'NWD176480', 'NWD178783',\n",
       "       'NWD179190', 'NWD179781', 'NWD180145', 'NWD181046', 'NWD182275',\n",
       "       'NWD183109', 'NWD183770', 'NWD184736', 'NWD184773', 'NWD185687',\n",
       "       'NWD186938', 'NWD188990', 'NWD189367', 'NWD189420', 'NWD192048',\n",
       "       'NWD192889', 'NWD192941', 'NWD194702', 'NWD194724', 'NWD197401',\n",
       "       'NWD199208', 'NWD200273', 'NWD206538', 'NWD207199', 'NWD207934',\n",
       "       'NWD212550', 'NWD213930', 'NWD215016', 'NWD215109', 'NWD216887',\n",
       "       'NWD217808', 'NWD219207', 'NWD220331', 'NWD220570', 'NWD224069',\n",
       "       'NWD224453', 'NWD224522', 'NWD228431', 'NWD231556', 'NWD233800',\n",
       "       'NWD236598', 'NWD237521', 'NWD237744', 'NWD237766', 'NWD238539',\n",
       "       'NWD240448', 'NWD240672', 'NWD242885', 'NWD243277', 'NWD245574',\n",
       "       'NWD246184', 'NWD246753', 'NWD247903', 'NWD254933', 'NWD257295',\n",
       "       'NWD257638', 'NWD258348', 'NWD258758', 'NWD259921', 'NWD261865',\n",
       "       'NWD263914', 'NWD264030', 'NWD264638', 'NWD266100', 'NWD268223',\n",
       "       'NWD268264', 'NWD269424', 'NWD270111', 'NWD271576', 'NWD271897',\n",
       "       'NWD272031', 'NWD273263', 'NWD274393', 'NWD275276', 'NWD280823',\n",
       "       'NWD281837', 'NWD283533', 'NWD287857', 'NWD290309', 'NWD290526',\n",
       "       'NWD291525', 'NWD291745', 'NWD293999', 'NWD294398', 'NWD294464',\n",
       "       'NWD295870', 'NWD296206', 'NWD296460', 'NWD296472', 'NWD296703',\n",
       "       'NWD297447', 'NWD297837', 'NWD298480', 'NWD298665', 'NWD298768',\n",
       "       'NWD301539', 'NWD302291', 'NWD303475', 'NWD303740', 'NWD305802',\n",
       "       'NWD305912', 'NWD306458', 'NWD314323', 'NWD317568', 'NWD318168',\n",
       "       'NWD320193', 'NWD320334', 'NWD320704', 'NWD323093', 'NWD325086',\n",
       "       'NWD326245', 'NWD327487', 'NWD327590', 'NWD329499', 'NWD332605',\n",
       "       'NWD333272', 'NWD334023', 'NWD334139', 'NWD338767', 'NWD342004',\n",
       "       'NWD343109', 'NWD343170', 'NWD343935', 'NWD348137', 'NWD348392',\n",
       "       'NWD348752', 'NWD349789', 'NWD349937', 'NWD350628', 'NWD352165',\n",
       "       'NWD352887', 'NWD353812', 'NWD355097', 'NWD355315', 'NWD356013',\n",
       "       'NWD359522', 'NWD362531', 'NWD363232', 'NWD364351', 'NWD364949',\n",
       "       'NWD367270', 'NWD367473', 'NWD367915', 'NWD371882', 'NWD373437',\n",
       "       'NWD374663', 'NWD375393', 'NWD375661', 'NWD378106', 'NWD379598',\n",
       "       'NWD379885', 'NWD382909', 'NWD384086', 'NWD385875', 'NWD386084',\n",
       "       'NWD386262', 'NWD389083', 'NWD395765', 'NWD395880', 'NWD399320',\n",
       "       'NWD399337', 'NWD399447', 'NWD401416', 'NWD403371', 'NWD403498',\n",
       "       'NWD404193', 'NWD405613', 'NWD407523', 'NWD407544', 'NWD408059',\n",
       "       'NWD408480', 'NWD408552', 'NWD408756', 'NWD410706', 'NWD411503',\n",
       "       'NWD413618', 'NWD414247', 'NWD415004', 'NWD415967', 'NWD417283',\n",
       "       'NWD419900', 'NWD419939', 'NWD419962', 'NWD422602', 'NWD427962',\n",
       "       'NWD428085', 'NWD428186', 'NWD428776', 'NWD429610', 'NWD430380',\n",
       "       'NWD431613', 'NWD431980', 'NWD432973', 'NWD433909', 'NWD434417',\n",
       "       'NWD435138', 'NWD435540', 'NWD435687', 'NWD435871', 'NWD435930',\n",
       "       'NWD436611', 'NWD439627', 'NWD439749', 'NWD439825', 'NWD440721',\n",
       "       'NWD441352', 'NWD441425', 'NWD443821', 'NWD444733', 'NWD444878',\n",
       "       'NWD445108', 'NWD445308', 'NWD446080', 'NWD446432', 'NWD446785',\n",
       "       'NWD448403', 'NWD448683', 'NWD448807', 'NWD448880', 'NWD451026',\n",
       "       'NWD452205', 'NWD453227', 'NWD453365', 'NWD454202', 'NWD456011',\n",
       "       'NWD456235', 'NWD457442', 'NWD458338', 'NWD459442', 'NWD459669',\n",
       "       'NWD460406', 'NWD461794', 'NWD462678', 'NWD463704', 'NWD465153',\n",
       "       'NWD468056', 'NWD468090', 'NWD469413', 'NWD470094', 'NWD470655',\n",
       "       'NWD472158', 'NWD473167', 'NWD474705', 'NWD476052', 'NWD476144',\n",
       "       'NWD476296', 'NWD476839', 'NWD480572', 'NWD483968', 'NWD485298',\n",
       "       'NWD486818', 'NWD492018', 'NWD494112', 'NWD494238', 'NWD495319',\n",
       "       'NWD496271', 'NWD497370', 'NWD498509', 'NWD500267', 'NWD501853',\n",
       "       'NWD502793', 'NWD503040', 'NWD503275', 'NWD505390', 'NWD509046',\n",
       "       'NWD509992', 'NWD510897', 'NWD511538', 'NWD513011', 'NWD514983',\n",
       "       'NWD516044', 'NWD517233', 'NWD517848', 'NWD520145', 'NWD520365',\n",
       "       'NWD520524', 'NWD523738', 'NWD525529', 'NWD527064', 'NWD531060',\n",
       "       'NWD531755', 'NWD533798', 'NWD534399', 'NWD535017', 'NWD535114',\n",
       "       'NWD535402', 'NWD535468', 'NWD538272', 'NWD539447', 'NWD539654',\n",
       "       'NWD539776', 'NWD539818', 'NWD540496', 'NWD543943', 'NWD543959',\n",
       "       'NWD545116', 'NWD546112', 'NWD548194', 'NWD549746', 'NWD550815',\n",
       "       'NWD552300', 'NWD558082', 'NWD561860', 'NWD562309', 'NWD563296',\n",
       "       'NWD564480', 'NWD565018', 'NWD566218', 'NWD567317', 'NWD567726',\n",
       "       'NWD567912', 'NWD568667', 'NWD569069', 'NWD569427', 'NWD569468',\n",
       "       'NWD570811', 'NWD572760', 'NWD573106', 'NWD576185', 'NWD578977',\n",
       "       'NWD580211', 'NWD582517', 'NWD582653', 'NWD585003', 'NWD585554',\n",
       "       'NWD585783', 'NWD585967', 'NWD588591', 'NWD589373', 'NWD589399',\n",
       "       'NWD589960', 'NWD591156', 'NWD592449', 'NWD592624', 'NWD592719',\n",
       "       'NWD592809', 'NWD593000', 'NWD596434', 'NWD596638', 'NWD597284',\n",
       "       'NWD598497', 'NWD599557', 'NWD600094', 'NWD602572', 'NWD604748',\n",
       "       'NWD604885', 'NWD605048', 'NWD605426', 'NWD605506', 'NWD606897',\n",
       "       'NWD607111', 'NWD608751', 'NWD617223', 'NWD617722', 'NWD619958',\n",
       "       'NWD621327', 'NWD621844', 'NWD623976', 'NWD623992', 'NWD627229',\n",
       "       'NWD631064', 'NWD634774', 'NWD635864', 'NWD637819', 'NWD639042',\n",
       "       'NWD639686', 'NWD639787', 'NWD640549', 'NWD640880', 'NWD641090',\n",
       "       'NWD642623', 'NWD643029', 'NWD643609', 'NWD644246', 'NWD645469',\n",
       "       'NWD646141', 'NWD646656', 'NWD648341', 'NWD650393', 'NWD650479',\n",
       "       'NWD654467', 'NWD655846', 'NWD657286', 'NWD660590', 'NWD662511',\n",
       "       'NWD664135', 'NWD671748', 'NWD676165', 'NWD677012', 'NWD680710',\n",
       "       'NWD682700', 'NWD683306', 'NWD683491', 'NWD683698', 'NWD684615',\n",
       "       'NWD685204', 'NWD685289', 'NWD687475', 'NWD688258', 'NWD690016',\n",
       "       'NWD691292', 'NWD692143', 'NWD694246', 'NWD695259', 'NWD695451',\n",
       "       'NWD697150', 'NWD697607', 'NWD699045', 'NWD699476', 'NWD703451',\n",
       "       'NWD707292', 'NWD707513', 'NWD710583', 'NWD712145', 'NWD712208',\n",
       "       'NWD718369', 'NWD719726', 'NWD721242', 'NWD723450', 'NWD724553',\n",
       "       'NWD725839', 'NWD726224', 'NWD726446', 'NWD726951', 'NWD728027',\n",
       "       'NWD730335', 'NWD732886', 'NWD733571', 'NWD734384', 'NWD734825',\n",
       "       'NWD735105', 'NWD735369', 'NWD736245', 'NWD736713', 'NWD737550',\n",
       "       'NWD739367', 'NWD741479', 'NWD742062', 'NWD742401', 'NWD742663',\n",
       "       'NWD743100', 'NWD745190', 'NWD745591', 'NWD747073', 'NWD749807',\n",
       "       'NWD751284', 'NWD751733', 'NWD759503', 'NWD760813', 'NWD761804',\n",
       "       'NWD761941', 'NWD762642', 'NWD763136', 'NWD766055', 'NWD766792',\n",
       "       'NWD768989', 'NWD769877', 'NWD770251', 'NWD772674', 'NWD772851',\n",
       "       'NWD773500', 'NWD773651', 'NWD774618', 'NWD776513', 'NWD779044',\n",
       "       'NWD779244', 'NWD780908', 'NWD782278', 'NWD782441', 'NWD782965',\n",
       "       'NWD783843', 'NWD784443', 'NWD785237', 'NWD785431', 'NWD785657',\n",
       "       'NWD788938', 'NWD789439', 'NWD790899', 'NWD792333', 'NWD792931',\n",
       "       'NWD793549', 'NWD794742', 'NWD795833', 'NWD804545', 'NWD808767',\n",
       "       'NWD811135', 'NWD813468', 'NWD817365', 'NWD821466', 'NWD821904',\n",
       "       'NWD824273', 'NWD824436', 'NWD826290', 'NWD826829', 'NWD827120',\n",
       "       'NWD827477', 'NWD827979', 'NWD828133', 'NWD829885', 'NWD833696',\n",
       "       'NWD835628', 'NWD836807', 'NWD837093', 'NWD837649', 'NWD837669',\n",
       "       'NWD838122', 'NWD840181', 'NWD842078', 'NWD843178', 'NWD843370',\n",
       "       'NWD848862', 'NWD851981', 'NWD853651', 'NWD853969', 'NWD858479',\n",
       "       'NWD859967', 'NWD860456', 'NWD863571', 'NWD863933', 'NWD864594',\n",
       "       'NWD866762', 'NWD866772', 'NWD867004', 'NWD867212', 'NWD867226',\n",
       "       'NWD868456', 'NWD871325', 'NWD872341', 'NWD873978', 'NWD874112',\n",
       "       'NWD874841', 'NWD875021', 'NWD875133', 'NWD877105', 'NWD877643',\n",
       "       'NWD877854', 'NWD878540', 'NWD880625', 'NWD882087', 'NWD882707',\n",
       "       'NWD883931', 'NWD886639', 'NWD887050', 'NWD887941', 'NWD888698',\n",
       "       'NWD889141', 'NWD890551', 'NWD891227', 'NWD891758', 'NWD891892',\n",
       "       'NWD892625', 'NWD893183', 'NWD893349', 'NWD894217', 'NWD896041',\n",
       "       'NWD896511', 'NWD897031', 'NWD897641', 'NWD899033', 'NWD901007',\n",
       "       'NWD901737', 'NWD901880', 'NWD903771', 'NWD904698', 'NWD904935',\n",
       "       'NWD905617', 'NWD907066', 'NWD909950', 'NWD910579', 'NWD910618',\n",
       "       'NWD912305', 'NWD912722', 'NWD912818', 'NWD913810', 'NWD916748',\n",
       "       'NWD916922', 'NWD917679', 'NWD918713', 'NWD919315', 'NWD920720',\n",
       "       'NWD921541', 'NWD922316', 'NWD922740', 'NWD924467', 'NWD924515',\n",
       "       'NWD927061', 'NWD927673', 'NWD930728', 'NWD935435', 'NWD936115',\n",
       "       'NWD936527', 'NWD939757', 'NWD945681', 'NWD946133', 'NWD946560',\n",
       "       'NWD947759', 'NWD948784', 'NWD949095', 'NWD951222', 'NWD952520',\n",
       "       'NWD954161', 'NWD954580', 'NWD955201', 'NWD959242', 'NWD960075',\n",
       "       'NWD960159', 'NWD960182', 'NWD962355', 'NWD962685', 'NWD964283',\n",
       "       'NWD965898', 'NWD966003', 'NWD967429', 'NWD969082', 'NWD970363',\n",
       "       'NWD971972', 'NWD976180', 'NWD976650', 'NWD976971', 'NWD978189',\n",
       "       'NWD978586', 'NWD979011', 'NWD979054', 'NWD979200', 'NWD980793',\n",
       "       'NWD981447', 'NWD982484', 'NWD983201', 'NWD986807', 'NWD988534',\n",
       "       'NWD988887', 'NWD989024', 'NWD989173', 'NWD990995', 'NWD991343',\n",
       "       'NWD995465', 'NWD998966'], dtype=object)"
      ]
     },
     "execution_count": 77,
     "metadata": {},
     "output_type": "execute_result"
    }
   ],
   "source": [
    "one_group[\"sample_id\"].values"
   ]
  },
  {
   "cell_type": "code",
   "execution_count": 78,
   "metadata": {},
   "outputs": [],
   "source": [
    "vds_subset_one_group = vds.filter_samples_list(list(one_group[\"sample_id\"].values), keep=True)"
   ]
  },
  {
   "cell_type": "code",
   "execution_count": 79,
   "metadata": {},
   "outputs": [
    {
     "data": {
      "text/plain": [
       "Summary(samples=697, variants=7762483, call_rate=0.991701, contigs=['chr21'], multiallelics=0, snps=6949524, mnps=0, insertions=287547, deletions=525412, complex=0, star=0, max_alleles=2)"
      ]
     },
     "execution_count": 79,
     "metadata": {},
     "output_type": "execute_result"
    }
   ],
   "source": [
    "## this takes a very long time\n",
    "#vds_subset_one_group.summarize()"
   ]
  },
  {
   "cell_type": "code",
   "execution_count": 80,
   "metadata": {},
   "outputs": [],
   "source": [
    "vds_subset_one_group_variant_qc = vds_subset_one_group.variant_qc()"
   ]
  },
  {
   "cell_type": "code",
   "execution_count": 81,
   "metadata": {},
   "outputs": [],
   "source": [
    "vds_subset_one_group_sample_qc = vds_subset_one_group.variant_qc().cache().sample_qc()"
   ]
  },
  {
   "cell_type": "code",
   "execution_count": 91,
   "metadata": {},
   "outputs": [
    {
     "name": "stdout",
     "output_type": "stream",
     "text": [
      "gs://fc-adaae650-a458-4c56-8a55-d96fa463a5c6/tmp/JHS.HMB-IRB-NPU.freeze.5b.chr21.pass_and_fail.gtonly.minDP10.sample_qc\n"
     ]
    }
   ],
   "source": [
    "print \"gs://fc-adaae650-a458-4c56-8a55-d96fa463a5c6/tmp/\" + \"JHS.HMB-IRB-NPU.\" + label + \".sample_qc\""
   ]
  },
  {
   "cell_type": "code",
   "execution_count": 94,
   "metadata": {},
   "outputs": [
    {
     "name": "stderr",
     "output_type": "stream",
     "text": [
      "2017-11-25 23:21:37 Hail: INFO: while writing:\n",
      "    gs://fc-adaae650-a458-4c56-8a55-d96fa463a5c6/tmp/JHS.HMB-IRB-NPU.freeze.5b.chr21.pass_and_fail.gtonly.minDP10.sample_qc.tsv\n",
      "  merge time: 2.329s\n",
      "2017-11-25 23:45:24 Hail: INFO: while writing:\n",
      "    gs://fc-adaae650-a458-4c56-8a55-d96fa463a5c6/tmp/JHS.HMB-IRB-NPU.freeze.5b.chr21.pass_and_fail.gtonly.minDP10.variant_qc\n",
      "  merge time: 4m37.0s\n",
      "2017-11-26 00:02:28 Hail: INFO: while writing:\n",
      "    gs://fc-adaae650-a458-4c56-8a55-d96fa463a5c6/tmp/JHS.HMB-IRB-NPU.freeze.5b.chr21.pass_and_fail.gtonly.minDP10.variant_qc.tsv\n",
      "  merge time: 3m10.4s\n"
     ]
    }
   ],
   "source": [
    "vds_subset_one_group_sample_qc.samples_table().flatten().export(\"gs://fc-adaae650-a458-4c56-8a55-d96fa463a5c6/tmp/\" + \"JHS.HMB-IRB-NPU.\" + label + \".sample_qc.tsv\",types_file=\".tsv\")\n",
    "vds_subset_one_group_variant_qc.variants_table().flatten().export(\"gs://fc-adaae650-a458-4c56-8a55-d96fa463a5c6/tmp/\" + \"JHS.HMB-IRB-NPU.\" + label + \".variant_qc.tsv\",types_file=\".tsv\")"
   ]
  },
  {
   "cell_type": "markdown",
   "metadata": {},
   "source": [
    "Finally, export the VDS file after removing monomorphic variants."
   ]
  },
  {
   "cell_type": "code",
   "execution_count": 109,
   "metadata": {},
   "outputs": [
    {
     "name": "stdout",
     "output_type": "stream",
     "text": [
      "Struct{rsid:String,qual:Double,filters:Set[String],info:Struct{AVGDP:Double,AC:Array[Int],AN:Int,AF:Array[Double],GC:Array[Int],GN:Int,HWEAF_P:Array[Double],FIBC_P:Double,HWE_SLP_P:Double,FIBC_I:Double,HWE_SLP_I:Double,MAX_IF:Double,MIN_IF:Double,ABE:Double,ABZ:Double,NS_NREF:Int,BQZ:Double,CYZ:Double,STZ:Double,NMZ:Double,IOR:Double,NM0:Double,NM1:Double,SVM:Double,OVERLAP:Array[String],ANN:Array[String],LOF:Array[String],NMD:Array[String]}}\n"
     ]
    }
   ],
   "source": [
    "vds_subset_one_group = vds_subset_one_group.filter_variants_expr(\"\")"
   ]
  },
  {
   "cell_type": "code",
   "execution_count": 110,
   "metadata": {},
   "outputs": [
    {
     "name": "stdout",
     "output_type": "stream",
     "text": [
      "Struct{rsid:String,qual:Double,filters:Set[String],info:Struct{AVGDP:Double,AC:Array[Int],AN:Int,AF:Array[Double],GC:Array[Int],GN:Int,HWEAF_P:Array[Double],FIBC_P:Double,HWE_SLP_P:Double,FIBC_I:Double,HWE_SLP_I:Double,MAX_IF:Double,MIN_IF:Double,ABE:Double,ABZ:Double,NS_NREF:Int,BQZ:Double,CYZ:Double,STZ:Double,NMZ:Double,IOR:Double,NM0:Double,NM1:Double,SVM:Double,OVERLAP:Array[String],ANN:Array[String],LOF:Array[String],NMD:Array[String]},qc:Struct{callRate:Double,AC:Int,AF:Double,nCalled:Int,nNotCalled:Int,nHomRef:Int,nHet:Int,nHomVar:Int,dpMean:Double,dpStDev:Double,gqMean:Double,gqStDev:Double,nNonRef:Int,rHeterozygosity:Double,rHetHomVar:Double,rExpectedHetFrequency:Double,pHWE:Double}}\n"
     ]
    }
   ],
   "source": [
    "print vds_subset_one_group_variant_qc.variant_schema"
   ]
  },
  {
   "cell_type": "code",
   "execution_count": 98,
   "metadata": {},
   "outputs": [
    {
     "ename": "FatalError",
     "evalue": "HailException: Struct has no field `qc'\n  Available fields:\n    rsid: String\n    qual: Double\n    filters: Set[String]\n    info: Struct{AVGDP:Double,AC:Array[Int],AN:Int,AF:Array[Double],GC:Array[Int],GN:Int,HWEAF_P:Array[Double],FIBC_P:Double,HWE_SLP_P:Double,FIBC_I:Double,HWE_SLP_I:Double,MAX_IF:Double,MIN_IF:Double,ABE:Double,ABZ:Double,NS_NREF:Int,BQZ:Double,CYZ:Double,STZ:Double,NMZ:Double,IOR:Double,NM0:Double,NM1:Double,SVM:Double,OVERLAP:Array[String],ANN:Array[String],LOF:Array[String],NMD:Array[String]}\n<input>:1:va.qc.AC > 0\n            ^\n\nJava stack trace:\nis.hail.utils.HailException: Struct has no field `qc'\n  Available fields:\n    rsid: String\n    qual: Double\n    filters: Set[String]\n    info: Struct{AVGDP:Double,AC:Array[Int],AN:Int,AF:Array[Double],GC:Array[Int],GN:Int,HWEAF_P:Array[Double],FIBC_P:Double,HWE_SLP_P:Double,FIBC_I:Double,HWE_SLP_I:Double,MAX_IF:Double,MIN_IF:Double,ABE:Double,ABZ:Double,NS_NREF:Int,BQZ:Double,CYZ:Double,STZ:Double,NMZ:Double,IOR:Double,NM0:Double,NM1:Double,SVM:Double,OVERLAP:Array[String],ANN:Array[String],LOF:Array[String],NMD:Array[String]}\n<input>:1:va.qc.AC > 0\n            ^\n\tat is.hail.utils.ErrorHandling$class.fatal(ErrorHandling.scala:6)\n\tat is.hail.utils.package$.fatal(package.scala:27)\n\tat is.hail.expr.ParserUtils$.error(Parser.scala:24)\n\tat is.hail.expr.AST.parseError(AST.scala:238)\n\tat is.hail.expr.Select.typecheckThis(AST.scala:303)\n\tat is.hail.expr.AST.typecheckThis(AST.scala:229)\n\tat is.hail.expr.AST.typecheck(AST.scala:235)\n\tat is.hail.expr.AST$$anonfun$typecheck$1.apply(AST.scala:234)\n\tat is.hail.expr.AST$$anonfun$typecheck$1.apply(AST.scala:234)\n\tat scala.collection.IndexedSeqOptimized$class.foreach(IndexedSeqOptimized.scala:33)\n\tat scala.collection.mutable.ArrayOps$ofRef.foreach(ArrayOps.scala:186)\n\tat is.hail.expr.AST.typecheck(AST.scala:234)\n\tat is.hail.expr.AST$$anonfun$typecheck$1.apply(AST.scala:234)\n\tat is.hail.expr.AST$$anonfun$typecheck$1.apply(AST.scala:234)\n\tat scala.collection.IndexedSeqOptimized$class.foreach(IndexedSeqOptimized.scala:33)\n\tat scala.collection.mutable.ArrayOps$ofRef.foreach(ArrayOps.scala:186)\n\tat is.hail.expr.AST.typecheck(AST.scala:234)\n\tat is.hail.expr.Apply.typecheck(AST.scala:520)\n\tat is.hail.expr.Parser$.is$hail$expr$Parser$$eval(Parser.scala:57)\n\tat is.hail.expr.Parser$.evalExpr(Parser.scala:74)\n\tat is.hail.expr.Parser$.evalTypedExpr(Parser.scala:67)\n\tat is.hail.expr.FilterVariants.execute(Relational.scala:348)\n\tat is.hail.variant.VariantSampleMatrix.value$lzycompute(VariantSampleMatrix.scala:415)\n\tat is.hail.variant.VariantSampleMatrix.value(VariantSampleMatrix.scala:413)\n\tat is.hail.variant.VariantSampleMatrix.x$11$lzycompute(VariantSampleMatrix.scala:418)\n\tat is.hail.variant.VariantSampleMatrix.x$11(VariantSampleMatrix.scala:418)\n\tat is.hail.variant.VariantSampleMatrix.rdd$lzycompute(VariantSampleMatrix.scala:418)\n\tat is.hail.variant.VariantSampleMatrix.rdd(VariantSampleMatrix.scala:418)\n\tat is.hail.variant.VariantDatasetFunctions$.withGenotypeStream$extension(VariantDataset.scala:196)\n\tat is.hail.variant.VariantDatasetFunctions$.coalesce$extension(VariantDataset.scala:202)\n\tat is.hail.variant.VariantDatasetFunctions.coalesce(VariantDataset.scala:201)\n\tat sun.reflect.NativeMethodAccessorImpl.invoke0(Native Method)\n\tat sun.reflect.NativeMethodAccessorImpl.invoke(NativeMethodAccessorImpl.java:62)\n\tat sun.reflect.DelegatingMethodAccessorImpl.invoke(DelegatingMethodAccessorImpl.java:43)\n\tat java.lang.reflect.Method.invoke(Method.java:498)\n\tat py4j.reflection.MethodInvoker.invoke(MethodInvoker.java:237)\n\tat py4j.reflection.ReflectionEngine.invoke(ReflectionEngine.java:357)\n\tat py4j.Gateway.invoke(Gateway.java:280)\n\tat py4j.commands.AbstractCommand.invokeMethod(AbstractCommand.java:132)\n\tat py4j.commands.CallCommand.execute(CallCommand.java:79)\n\tat py4j.GatewayConnection.run(GatewayConnection.java:214)\n\tat java.lang.Thread.run(Thread.java:748)\n\nHail version: 0.1-6f85985\nError summary: HailException: Struct has no field `qc'\n  Available fields:\n    rsid: String\n    qual: Double\n    filters: Set[String]\n    info: Struct{AVGDP:Double,AC:Array[Int],AN:Int,AF:Array[Double],GC:Array[Int],GN:Int,HWEAF_P:Array[Double],FIBC_P:Double,HWE_SLP_P:Double,FIBC_I:Double,HWE_SLP_I:Double,MAX_IF:Double,MIN_IF:Double,ABE:Double,ABZ:Double,NS_NREF:Int,BQZ:Double,CYZ:Double,STZ:Double,NMZ:Double,IOR:Double,NM0:Double,NM1:Double,SVM:Double,OVERLAP:Array[String],ANN:Array[String],LOF:Array[String],NMD:Array[String]}\n<input>:1:va.qc.AC > 0\n            ^",
     "output_type": "error",
     "traceback": [
      "\u001b[0;31m\u001b[0m",
      "\u001b[0;31mFatalError\u001b[0mTraceback (most recent call last)",
      "\u001b[0;32m<ipython-input-98-2e12626234ed>\u001b[0m in \u001b[0;36m<module>\u001b[0;34m()\u001b[0m\n\u001b[0;32m----> 1\u001b[0;31m \u001b[0mvds_subset_one_group\u001b[0m\u001b[0;34m.\u001b[0m\u001b[0mrepartition\u001b[0m\u001b[0;34m(\u001b[0m\u001b[0;36m500\u001b[0m\u001b[0;34m)\u001b[0m\u001b[0;34m\u001b[0m\u001b[0m\n\u001b[0m",
      "\u001b[0;32m<decorator-gen-537>\u001b[0m in \u001b[0;36mrepartition\u001b[0;34m(self, num_partitions, shuffle)\u001b[0m\n",
      "\u001b[0;32m/hail/hail-0.1-6f8598516c88.zip/hail/java.pyc\u001b[0m in \u001b[0;36mhandle_py4j\u001b[0;34m(func, *args, **kwargs)\u001b[0m\n\u001b[1;32m    119\u001b[0m         raise FatalError('%s\\n\\nJava stack trace:\\n%s\\n'\n\u001b[1;32m    120\u001b[0m                          \u001b[0;34m'Hail version: %s\\n'\u001b[0m\u001b[0;34m\u001b[0m\u001b[0m\n\u001b[0;32m--> 121\u001b[0;31m                          'Error summary: %s' % (deepest, full, Env.hc().version, deepest))\n\u001b[0m\u001b[1;32m    122\u001b[0m     \u001b[0;32mexcept\u001b[0m \u001b[0mpy4j\u001b[0m\u001b[0;34m.\u001b[0m\u001b[0mprotocol\u001b[0m\u001b[0;34m.\u001b[0m\u001b[0mPy4JError\u001b[0m \u001b[0;32mas\u001b[0m \u001b[0me\u001b[0m\u001b[0;34m:\u001b[0m\u001b[0;34m\u001b[0m\u001b[0m\n\u001b[1;32m    123\u001b[0m         \u001b[0;32mif\u001b[0m \u001b[0me\u001b[0m\u001b[0;34m.\u001b[0m\u001b[0margs\u001b[0m\u001b[0;34m[\u001b[0m\u001b[0;36m0\u001b[0m\u001b[0;34m]\u001b[0m\u001b[0;34m.\u001b[0m\u001b[0mstartswith\u001b[0m\u001b[0;34m(\u001b[0m\u001b[0;34m'An error occurred while calling'\u001b[0m\u001b[0;34m)\u001b[0m\u001b[0;34m:\u001b[0m\u001b[0;34m\u001b[0m\u001b[0m\n",
      "\u001b[0;31mFatalError\u001b[0m: HailException: Struct has no field `qc'\n  Available fields:\n    rsid: String\n    qual: Double\n    filters: Set[String]\n    info: Struct{AVGDP:Double,AC:Array[Int],AN:Int,AF:Array[Double],GC:Array[Int],GN:Int,HWEAF_P:Array[Double],FIBC_P:Double,HWE_SLP_P:Double,FIBC_I:Double,HWE_SLP_I:Double,MAX_IF:Double,MIN_IF:Double,ABE:Double,ABZ:Double,NS_NREF:Int,BQZ:Double,CYZ:Double,STZ:Double,NMZ:Double,IOR:Double,NM0:Double,NM1:Double,SVM:Double,OVERLAP:Array[String],ANN:Array[String],LOF:Array[String],NMD:Array[String]}\n<input>:1:va.qc.AC > 0\n            ^\n\nJava stack trace:\nis.hail.utils.HailException: Struct has no field `qc'\n  Available fields:\n    rsid: String\n    qual: Double\n    filters: Set[String]\n    info: Struct{AVGDP:Double,AC:Array[Int],AN:Int,AF:Array[Double],GC:Array[Int],GN:Int,HWEAF_P:Array[Double],FIBC_P:Double,HWE_SLP_P:Double,FIBC_I:Double,HWE_SLP_I:Double,MAX_IF:Double,MIN_IF:Double,ABE:Double,ABZ:Double,NS_NREF:Int,BQZ:Double,CYZ:Double,STZ:Double,NMZ:Double,IOR:Double,NM0:Double,NM1:Double,SVM:Double,OVERLAP:Array[String],ANN:Array[String],LOF:Array[String],NMD:Array[String]}\n<input>:1:va.qc.AC > 0\n            ^\n\tat is.hail.utils.ErrorHandling$class.fatal(ErrorHandling.scala:6)\n\tat is.hail.utils.package$.fatal(package.scala:27)\n\tat is.hail.expr.ParserUtils$.error(Parser.scala:24)\n\tat is.hail.expr.AST.parseError(AST.scala:238)\n\tat is.hail.expr.Select.typecheckThis(AST.scala:303)\n\tat is.hail.expr.AST.typecheckThis(AST.scala:229)\n\tat is.hail.expr.AST.typecheck(AST.scala:235)\n\tat is.hail.expr.AST$$anonfun$typecheck$1.apply(AST.scala:234)\n\tat is.hail.expr.AST$$anonfun$typecheck$1.apply(AST.scala:234)\n\tat scala.collection.IndexedSeqOptimized$class.foreach(IndexedSeqOptimized.scala:33)\n\tat scala.collection.mutable.ArrayOps$ofRef.foreach(ArrayOps.scala:186)\n\tat is.hail.expr.AST.typecheck(AST.scala:234)\n\tat is.hail.expr.AST$$anonfun$typecheck$1.apply(AST.scala:234)\n\tat is.hail.expr.AST$$anonfun$typecheck$1.apply(AST.scala:234)\n\tat scala.collection.IndexedSeqOptimized$class.foreach(IndexedSeqOptimized.scala:33)\n\tat scala.collection.mutable.ArrayOps$ofRef.foreach(ArrayOps.scala:186)\n\tat is.hail.expr.AST.typecheck(AST.scala:234)\n\tat is.hail.expr.Apply.typecheck(AST.scala:520)\n\tat is.hail.expr.Parser$.is$hail$expr$Parser$$eval(Parser.scala:57)\n\tat is.hail.expr.Parser$.evalExpr(Parser.scala:74)\n\tat is.hail.expr.Parser$.evalTypedExpr(Parser.scala:67)\n\tat is.hail.expr.FilterVariants.execute(Relational.scala:348)\n\tat is.hail.variant.VariantSampleMatrix.value$lzycompute(VariantSampleMatrix.scala:415)\n\tat is.hail.variant.VariantSampleMatrix.value(VariantSampleMatrix.scala:413)\n\tat is.hail.variant.VariantSampleMatrix.x$11$lzycompute(VariantSampleMatrix.scala:418)\n\tat is.hail.variant.VariantSampleMatrix.x$11(VariantSampleMatrix.scala:418)\n\tat is.hail.variant.VariantSampleMatrix.rdd$lzycompute(VariantSampleMatrix.scala:418)\n\tat is.hail.variant.VariantSampleMatrix.rdd(VariantSampleMatrix.scala:418)\n\tat is.hail.variant.VariantDatasetFunctions$.withGenotypeStream$extension(VariantDataset.scala:196)\n\tat is.hail.variant.VariantDatasetFunctions$.coalesce$extension(VariantDataset.scala:202)\n\tat is.hail.variant.VariantDatasetFunctions.coalesce(VariantDataset.scala:201)\n\tat sun.reflect.NativeMethodAccessorImpl.invoke0(Native Method)\n\tat sun.reflect.NativeMethodAccessorImpl.invoke(NativeMethodAccessorImpl.java:62)\n\tat sun.reflect.DelegatingMethodAccessorImpl.invoke(DelegatingMethodAccessorImpl.java:43)\n\tat java.lang.reflect.Method.invoke(Method.java:498)\n\tat py4j.reflection.MethodInvoker.invoke(MethodInvoker.java:237)\n\tat py4j.reflection.ReflectionEngine.invoke(ReflectionEngine.java:357)\n\tat py4j.Gateway.invoke(Gateway.java:280)\n\tat py4j.commands.AbstractCommand.invokeMethod(AbstractCommand.java:132)\n\tat py4j.commands.CallCommand.execute(CallCommand.java:79)\n\tat py4j.GatewayConnection.run(GatewayConnection.java:214)\n\tat java.lang.Thread.run(Thread.java:748)\n\nHail version: 0.1-6f85985\nError summary: HailException: Struct has no field `qc'\n  Available fields:\n    rsid: String\n    qual: Double\n    filters: Set[String]\n    info: Struct{AVGDP:Double,AC:Array[Int],AN:Int,AF:Array[Double],GC:Array[Int],GN:Int,HWEAF_P:Array[Double],FIBC_P:Double,HWE_SLP_P:Double,FIBC_I:Double,HWE_SLP_I:Double,MAX_IF:Double,MIN_IF:Double,ABE:Double,ABZ:Double,NS_NREF:Int,BQZ:Double,CYZ:Double,STZ:Double,NMZ:Double,IOR:Double,NM0:Double,NM1:Double,SVM:Double,OVERLAP:Array[String],ANN:Array[String],LOF:Array[String],NMD:Array[String]}\n<input>:1:va.qc.AC > 0\n            ^"
     ]
    }
   ],
   "source": [
    "vds_subset_one_group.repartition(500)"
   ]
  },
  {
   "cell_type": "code",
   "execution_count": null,
   "metadata": {},
   "outputs": [],
   "source": [
    "ids_mask = data_model_text.map(lambda x: x['study'] in ['Amish', 'SAS', 'JHS','MESA']\n",
    "ids_filtered = data_model_text[].sample_id\n"
   ]
  },
  {
   "cell_type": "code",
   "execution_count": null,
   "metadata": {},
   "outputs": [],
   "source": []
  },
  {
   "cell_type": "code",
   "execution_count": 11,
   "metadata": {},
   "outputs": [
    {
     "ename": "KeyboardInterrupt",
     "evalue": "",
     "output_type": "error",
     "traceback": [
      "\u001b[0;31m\u001b[0m",
      "\u001b[0;31mKeyboardInterrupt\u001b[0mTraceback (most recent call last)",
      "\u001b[0;32m<ipython-input-11-188343bd9a41>\u001b[0m in \u001b[0;36m<module>\u001b[0;34m()\u001b[0m\n\u001b[0;32m----> 1\u001b[0;31m \u001b[0mvds\u001b[0m \u001b[0;34m=\u001b[0m \u001b[0mvds\u001b[0m\u001b[0;34m.\u001b[0m\u001b[0mvariant_qc\u001b[0m\u001b[0;34m(\u001b[0m\u001b[0;34m)\u001b[0m\u001b[0;34m.\u001b[0m\u001b[0mcache\u001b[0m\u001b[0;34m(\u001b[0m\u001b[0;34m)\u001b[0m\u001b[0;34m.\u001b[0m\u001b[0msample_qc\u001b[0m\u001b[0;34m(\u001b[0m\u001b[0;34m)\u001b[0m\u001b[0;34m\u001b[0m\u001b[0m\n\u001b[0m",
      "\u001b[0;32m<decorator-gen-550>\u001b[0m in \u001b[0;36msample_qc\u001b[0;34m(self, root, keep_star)\u001b[0m\n",
      "\u001b[0;32m/hail/hail-0.1-6f8598516c88.zip/hail/java.pyc\u001b[0m in \u001b[0;36mhandle_py4j\u001b[0;34m(func, *args, **kwargs)\u001b[0m\n\u001b[1;32m    113\u001b[0m \u001b[0;32mdef\u001b[0m \u001b[0mhandle_py4j\u001b[0m\u001b[0;34m(\u001b[0m\u001b[0mfunc\u001b[0m\u001b[0;34m,\u001b[0m \u001b[0;34m*\u001b[0m\u001b[0margs\u001b[0m\u001b[0;34m,\u001b[0m \u001b[0;34m**\u001b[0m\u001b[0mkwargs\u001b[0m\u001b[0;34m)\u001b[0m\u001b[0;34m:\u001b[0m\u001b[0;34m\u001b[0m\u001b[0m\n\u001b[1;32m    114\u001b[0m     \u001b[0;32mtry\u001b[0m\u001b[0;34m:\u001b[0m\u001b[0;34m\u001b[0m\u001b[0m\n\u001b[0;32m--> 115\u001b[0;31m         \u001b[0mr\u001b[0m \u001b[0;34m=\u001b[0m \u001b[0mfunc\u001b[0m\u001b[0;34m(\u001b[0m\u001b[0;34m*\u001b[0m\u001b[0margs\u001b[0m\u001b[0;34m,\u001b[0m \u001b[0;34m**\u001b[0m\u001b[0mkwargs\u001b[0m\u001b[0;34m)\u001b[0m\u001b[0;34m\u001b[0m\u001b[0m\n\u001b[0m\u001b[1;32m    116\u001b[0m     \u001b[0;32mexcept\u001b[0m \u001b[0mpy4j\u001b[0m\u001b[0;34m.\u001b[0m\u001b[0mprotocol\u001b[0m\u001b[0;34m.\u001b[0m\u001b[0mPy4JJavaError\u001b[0m \u001b[0;32mas\u001b[0m \u001b[0me\u001b[0m\u001b[0;34m:\u001b[0m\u001b[0;34m\u001b[0m\u001b[0m\n\u001b[1;32m    117\u001b[0m         \u001b[0mtpl\u001b[0m \u001b[0;34m=\u001b[0m \u001b[0mEnv\u001b[0m\u001b[0;34m.\u001b[0m\u001b[0mjutils\u001b[0m\u001b[0;34m(\u001b[0m\u001b[0;34m)\u001b[0m\u001b[0;34m.\u001b[0m\u001b[0mhandleForPython\u001b[0m\u001b[0;34m(\u001b[0m\u001b[0me\u001b[0m\u001b[0;34m.\u001b[0m\u001b[0mjava_exception\u001b[0m\u001b[0;34m)\u001b[0m\u001b[0;34m\u001b[0m\u001b[0m\n",
      "\u001b[0;32m<decorator-gen-549>\u001b[0m in \u001b[0;36msample_qc\u001b[0;34m(self, root, keep_star)\u001b[0m\n",
      "\u001b[0;32m/hail/hail-0.1-6f8598516c88.zip/hail/dataset.pyc\u001b[0m in \u001b[0;36mrequireTGenotype\u001b[0;34m(func, vds, *args, **kwargs)\u001b[0m\n\u001b[1;32m     26\u001b[0m             \u001b[0;32mraise\u001b[0m \u001b[0mTypeError\u001b[0m\u001b[0;34m(\u001b[0m\u001b[0;34m\"genotype signature must be Genotype, but found '%s'\"\u001b[0m \u001b[0;34m%\u001b[0m \u001b[0mtype\u001b[0m\u001b[0;34m(\u001b[0m\u001b[0mvds\u001b[0m\u001b[0;34m.\u001b[0m\u001b[0mgenotype_schema\u001b[0m\u001b[0;34m)\u001b[0m\u001b[0;34m)\u001b[0m\u001b[0;34m\u001b[0m\u001b[0m\n\u001b[1;32m     27\u001b[0m \u001b[0;34m\u001b[0m\u001b[0m\n\u001b[0;32m---> 28\u001b[0;31m     \u001b[0;32mreturn\u001b[0m \u001b[0mfunc\u001b[0m\u001b[0;34m(\u001b[0m\u001b[0mvds\u001b[0m\u001b[0;34m,\u001b[0m \u001b[0;34m*\u001b[0m\u001b[0margs\u001b[0m\u001b[0;34m,\u001b[0m \u001b[0;34m**\u001b[0m\u001b[0mkwargs\u001b[0m\u001b[0;34m)\u001b[0m\u001b[0;34m\u001b[0m\u001b[0m\n\u001b[0m\u001b[1;32m     29\u001b[0m \u001b[0;34m\u001b[0m\u001b[0m\n\u001b[1;32m     30\u001b[0m \u001b[0;34m\u001b[0m\u001b[0m\n",
      "\u001b[0;32m<decorator-gen-548>\u001b[0m in \u001b[0;36msample_qc\u001b[0;34m(self, root, keep_star)\u001b[0m\n",
      "\u001b[0;32m/hail/hail-0.1-6f8598516c88.zip/hail/typecheck/check.pyc\u001b[0m in \u001b[0;36m_typecheck\u001b[0;34m(f, *args, **kwargs)\u001b[0m\n\u001b[1;32m    224\u001b[0m     \u001b[0;32mdef\u001b[0m \u001b[0m_typecheck\u001b[0m\u001b[0;34m(\u001b[0m\u001b[0mf\u001b[0m\u001b[0;34m,\u001b[0m \u001b[0;34m*\u001b[0m\u001b[0margs\u001b[0m\u001b[0;34m,\u001b[0m \u001b[0;34m**\u001b[0m\u001b[0mkwargs\u001b[0m\u001b[0;34m)\u001b[0m\u001b[0;34m:\u001b[0m\u001b[0;34m\u001b[0m\u001b[0m\n\u001b[1;32m    225\u001b[0m         \u001b[0mcheck_all\u001b[0m\u001b[0;34m(\u001b[0m\u001b[0mf\u001b[0m\u001b[0;34m,\u001b[0m \u001b[0margs\u001b[0m\u001b[0;34m,\u001b[0m \u001b[0mkwargs\u001b[0m\u001b[0;34m,\u001b[0m \u001b[0mcheckers\u001b[0m\u001b[0;34m,\u001b[0m \u001b[0mis_method\u001b[0m\u001b[0;34m=\u001b[0m\u001b[0mTrue\u001b[0m\u001b[0;34m)\u001b[0m\u001b[0;34m\u001b[0m\u001b[0m\n\u001b[0;32m--> 226\u001b[0;31m         \u001b[0;32mreturn\u001b[0m \u001b[0mf\u001b[0m\u001b[0;34m(\u001b[0m\u001b[0;34m*\u001b[0m\u001b[0margs\u001b[0m\u001b[0;34m,\u001b[0m \u001b[0;34m**\u001b[0m\u001b[0mkwargs\u001b[0m\u001b[0;34m)\u001b[0m\u001b[0;34m\u001b[0m\u001b[0m\n\u001b[0m\u001b[1;32m    227\u001b[0m \u001b[0;34m\u001b[0m\u001b[0m\n\u001b[1;32m    228\u001b[0m     \u001b[0;32mreturn\u001b[0m \u001b[0mdecorator\u001b[0m\u001b[0;34m(\u001b[0m\u001b[0m_typecheck\u001b[0m\u001b[0;34m)\u001b[0m\u001b[0;34m\u001b[0m\u001b[0m\n",
      "\u001b[0;32m/hail/hail-0.1-6f8598516c88.zip/hail/dataset.pyc\u001b[0m in \u001b[0;36msample_qc\u001b[0;34m(self, root, keep_star)\u001b[0m\n\u001b[1;32m   4684\u001b[0m         \"\"\"\n\u001b[1;32m   4685\u001b[0m \u001b[0;34m\u001b[0m\u001b[0m\n\u001b[0;32m-> 4686\u001b[0;31m         \u001b[0;32mreturn\u001b[0m \u001b[0mVariantDataset\u001b[0m\u001b[0;34m(\u001b[0m\u001b[0mself\u001b[0m\u001b[0;34m.\u001b[0m\u001b[0mhc\u001b[0m\u001b[0;34m,\u001b[0m \u001b[0mself\u001b[0m\u001b[0;34m.\u001b[0m\u001b[0m_jvdf\u001b[0m\u001b[0;34m.\u001b[0m\u001b[0msampleQC\u001b[0m\u001b[0;34m(\u001b[0m\u001b[0mroot\u001b[0m\u001b[0;34m,\u001b[0m \u001b[0mkeep_star\u001b[0m\u001b[0;34m)\u001b[0m\u001b[0;34m)\u001b[0m\u001b[0;34m\u001b[0m\u001b[0m\n\u001b[0m\u001b[1;32m   4687\u001b[0m \u001b[0;34m\u001b[0m\u001b[0m\n\u001b[1;32m   4688\u001b[0m     \u001b[0;34m@\u001b[0m\u001b[0mhandle_py4j\u001b[0m\u001b[0;34m\u001b[0m\u001b[0m\n",
      "\u001b[0;32m/spark/spark-2.0.2/python/lib/py4j-0.10.3-src.zip/py4j/java_gateway.py\u001b[0m in \u001b[0;36m__call__\u001b[0;34m(self, *args)\u001b[0m\n\u001b[1;32m   1129\u001b[0m             \u001b[0mproto\u001b[0m\u001b[0;34m.\u001b[0m\u001b[0mEND_COMMAND_PART\u001b[0m\u001b[0;34m\u001b[0m\u001b[0m\n\u001b[1;32m   1130\u001b[0m \u001b[0;34m\u001b[0m\u001b[0m\n\u001b[0;32m-> 1131\u001b[0;31m         \u001b[0manswer\u001b[0m \u001b[0;34m=\u001b[0m \u001b[0mself\u001b[0m\u001b[0;34m.\u001b[0m\u001b[0mgateway_client\u001b[0m\u001b[0;34m.\u001b[0m\u001b[0msend_command\u001b[0m\u001b[0;34m(\u001b[0m\u001b[0mcommand\u001b[0m\u001b[0;34m)\u001b[0m\u001b[0;34m\u001b[0m\u001b[0m\n\u001b[0m\u001b[1;32m   1132\u001b[0m         return_value = get_return_value(\n\u001b[1;32m   1133\u001b[0m             answer, self.gateway_client, self.target_id, self.name)\n",
      "\u001b[0;32m/spark/spark-2.0.2/python/lib/py4j-0.10.3-src.zip/py4j/java_gateway.py\u001b[0m in \u001b[0;36msend_command\u001b[0;34m(self, command, retry, binary)\u001b[0m\n\u001b[1;32m    881\u001b[0m         \u001b[0mconnection\u001b[0m \u001b[0;34m=\u001b[0m \u001b[0mself\u001b[0m\u001b[0;34m.\u001b[0m\u001b[0m_get_connection\u001b[0m\u001b[0;34m(\u001b[0m\u001b[0;34m)\u001b[0m\u001b[0;34m\u001b[0m\u001b[0m\n\u001b[1;32m    882\u001b[0m         \u001b[0;32mtry\u001b[0m\u001b[0;34m:\u001b[0m\u001b[0;34m\u001b[0m\u001b[0m\n\u001b[0;32m--> 883\u001b[0;31m             \u001b[0mresponse\u001b[0m \u001b[0;34m=\u001b[0m \u001b[0mconnection\u001b[0m\u001b[0;34m.\u001b[0m\u001b[0msend_command\u001b[0m\u001b[0;34m(\u001b[0m\u001b[0mcommand\u001b[0m\u001b[0;34m)\u001b[0m\u001b[0;34m\u001b[0m\u001b[0m\n\u001b[0m\u001b[1;32m    884\u001b[0m             \u001b[0;32mif\u001b[0m \u001b[0mbinary\u001b[0m\u001b[0;34m:\u001b[0m\u001b[0;34m\u001b[0m\u001b[0m\n\u001b[1;32m    885\u001b[0m                 \u001b[0;32mreturn\u001b[0m \u001b[0mresponse\u001b[0m\u001b[0;34m,\u001b[0m \u001b[0mself\u001b[0m\u001b[0;34m.\u001b[0m\u001b[0m_create_connection_guard\u001b[0m\u001b[0;34m(\u001b[0m\u001b[0mconnection\u001b[0m\u001b[0;34m)\u001b[0m\u001b[0;34m\u001b[0m\u001b[0m\n",
      "\u001b[0;32m/spark/spark-2.0.2/python/lib/py4j-0.10.3-src.zip/py4j/java_gateway.py\u001b[0m in \u001b[0;36msend_command\u001b[0;34m(self, command)\u001b[0m\n\u001b[1;32m   1026\u001b[0m \u001b[0;34m\u001b[0m\u001b[0m\n\u001b[1;32m   1027\u001b[0m         \u001b[0;32mtry\u001b[0m\u001b[0;34m:\u001b[0m\u001b[0;34m\u001b[0m\u001b[0m\n\u001b[0;32m-> 1028\u001b[0;31m             \u001b[0manswer\u001b[0m \u001b[0;34m=\u001b[0m \u001b[0msmart_decode\u001b[0m\u001b[0;34m(\u001b[0m\u001b[0mself\u001b[0m\u001b[0;34m.\u001b[0m\u001b[0mstream\u001b[0m\u001b[0;34m.\u001b[0m\u001b[0mreadline\u001b[0m\u001b[0;34m(\u001b[0m\u001b[0;34m)\u001b[0m\u001b[0;34m[\u001b[0m\u001b[0;34m:\u001b[0m\u001b[0;34m-\u001b[0m\u001b[0;36m1\u001b[0m\u001b[0;34m]\u001b[0m\u001b[0;34m)\u001b[0m\u001b[0;34m\u001b[0m\u001b[0m\n\u001b[0m\u001b[1;32m   1029\u001b[0m             \u001b[0mlogger\u001b[0m\u001b[0;34m.\u001b[0m\u001b[0mdebug\u001b[0m\u001b[0;34m(\u001b[0m\u001b[0;34m\"Answer received: {0}\"\u001b[0m\u001b[0;34m.\u001b[0m\u001b[0mformat\u001b[0m\u001b[0;34m(\u001b[0m\u001b[0manswer\u001b[0m\u001b[0;34m)\u001b[0m\u001b[0;34m)\u001b[0m\u001b[0;34m\u001b[0m\u001b[0m\n\u001b[1;32m   1030\u001b[0m             \u001b[0;32mif\u001b[0m \u001b[0manswer\u001b[0m\u001b[0;34m.\u001b[0m\u001b[0mstartswith\u001b[0m\u001b[0;34m(\u001b[0m\u001b[0mproto\u001b[0m\u001b[0;34m.\u001b[0m\u001b[0mRETURN_MESSAGE\u001b[0m\u001b[0;34m)\u001b[0m\u001b[0;34m:\u001b[0m\u001b[0;34m\u001b[0m\u001b[0m\n",
      "\u001b[0;32m/usr/lib/python2.7/socket.pyc\u001b[0m in \u001b[0;36mreadline\u001b[0;34m(self, size)\u001b[0m\n\u001b[1;32m    445\u001b[0m             \u001b[0;32mwhile\u001b[0m \u001b[0mTrue\u001b[0m\u001b[0;34m:\u001b[0m\u001b[0;34m\u001b[0m\u001b[0m\n\u001b[1;32m    446\u001b[0m                 \u001b[0;32mtry\u001b[0m\u001b[0;34m:\u001b[0m\u001b[0;34m\u001b[0m\u001b[0m\n\u001b[0;32m--> 447\u001b[0;31m                     \u001b[0mdata\u001b[0m \u001b[0;34m=\u001b[0m \u001b[0mself\u001b[0m\u001b[0;34m.\u001b[0m\u001b[0m_sock\u001b[0m\u001b[0;34m.\u001b[0m\u001b[0mrecv\u001b[0m\u001b[0;34m(\u001b[0m\u001b[0mself\u001b[0m\u001b[0;34m.\u001b[0m\u001b[0m_rbufsize\u001b[0m\u001b[0;34m)\u001b[0m\u001b[0;34m\u001b[0m\u001b[0m\n\u001b[0m\u001b[1;32m    448\u001b[0m                 \u001b[0;32mexcept\u001b[0m \u001b[0merror\u001b[0m\u001b[0;34m,\u001b[0m \u001b[0me\u001b[0m\u001b[0;34m:\u001b[0m\u001b[0;34m\u001b[0m\u001b[0m\n\u001b[1;32m    449\u001b[0m                     \u001b[0;32mif\u001b[0m \u001b[0me\u001b[0m\u001b[0;34m.\u001b[0m\u001b[0margs\u001b[0m\u001b[0;34m[\u001b[0m\u001b[0;36m0\u001b[0m\u001b[0;34m]\u001b[0m \u001b[0;34m==\u001b[0m \u001b[0mEINTR\u001b[0m\u001b[0;34m:\u001b[0m\u001b[0;34m\u001b[0m\u001b[0m\n",
      "\u001b[0;31mKeyboardInterrupt\u001b[0m: "
     ]
    }
   ],
   "source": [
    "vds = vds.variant_qc().cache().sample_qc()"
   ]
  },
  {
   "cell_type": "code",
   "execution_count": null,
   "metadata": {},
   "outputs": [],
   "source": [
    "vds.summarize().report()"
   ]
  },
  {
   "cell_type": "code",
   "execution_count": null,
   "metadata": {},
   "outputs": [],
   "source": [
    "pprint(vds.sample_schema)"
   ]
  },
  {
   "cell_type": "code",
   "execution_count": null,
   "metadata": {},
   "outputs": [],
   "source": []
  },
  {
   "cell_type": "code",
   "execution_count": null,
   "metadata": {},
   "outputs": [],
   "source": []
  },
  {
   "cell_type": "markdown",
   "metadata": {},
   "source": [
    "## Running PCA on Freeze 5b Genotypes"
   ]
  },
  {
   "cell_type": "code",
   "execution_count": null,
   "metadata": {},
   "outputs": [],
   "source": [
    "# do pca\n",
    "pca = vds.pca('sa.pca', k=5, eigenvalues='global.eigen')"
   ]
  },
  {
   "cell_type": "markdown",
   "metadata": {},
   "source": [
    "### Visualize the differences in families within the studies by principle components."
   ]
  },
  {
   "cell_type": "code",
   "execution_count": null,
   "metadata": {},
   "outputs": [],
   "source": [
    "# define some colors\n",
    "c = [\"aec7e8\",\"ff7f0e\",\"ffbb78\",\"2ca02c\",\"98df8a\",\"d62728\",\"ff9896\",\"9467bd\",\"c5b0d5\",\"8c564b\",\"c49c94\"]\n",
    "cz = zip(vds.query_samples('samples.map(s => sa.topmed_project).counter()').keys(),c)\n",
    "colors = {t[0]: t[1] for t in cz}\n",
    "# show the pca results\n",
    "import numpy as np\n",
    "import pandas as pd\n",
    "import matplotlib.pyplot as plt\n",
    "import matplotlib.patches as mpatches\n",
    "from collections import Counter\n",
    "from math import log, isnan\n",
    "from pprint import pprint\n",
    "%matplotlib inline\n",
    "pca_table = pca.samples_table().to_pandas()\n",
    "plt.scatter(pca_table[\"sa.pca.PC1\"], pca_table[\"sa.pca.PC2\"],\n",
    "            c = pca_table[\"sa.metadata.SuperPopulation\"].map(colors),\n",
    "            alpha = .5)\n",
    "plt.xlim(-0.6, 0.6)\n",
    "plt.xlabel(\"PC1\")\n",
    "plt.ylabel(\"PC2\")\n",
    "legend_entries = [mpatches.Patch(color=c, label=pheno) for pheno, c in colors.items()]\n",
    "plt.legend(handles=legend_entries, loc=2)\n",
    "plt.show()"
   ]
  },
  {
   "cell_type": "code",
   "execution_count": null,
   "metadata": {},
   "outputs": [],
   "source": []
  }
 ],
 "metadata": {
  "kernelspec": {
   "display_name": "Python 2",
   "language": "python",
   "name": "python2"
  },
  "language_info": {
   "codemirror_mode": {
    "name": "ipython",
    "version": 2
   },
   "file_extension": ".py",
   "mimetype": "text/x-python",
   "name": "python",
   "nbconvert_exporter": "python",
   "pygments_lexer": "ipython2",
   "version": "2.7.9"
  }
 },
 "nbformat": 4,
 "nbformat_minor": 2
}
